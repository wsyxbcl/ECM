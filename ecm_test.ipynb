{
 "cells": [
  {
   "cell_type": "code",
   "execution_count": 1,
   "metadata": {
    "collapsed": true
   },
   "outputs": [],
   "source": [
    "import sys"
   ]
  },
  {
   "cell_type": "code",
   "execution_count": 2,
   "metadata": {
    "collapsed": true
   },
   "outputs": [],
   "source": [
    "sys.path.insert(0, './ThinkDSP/code')"
   ]
  },
  {
   "cell_type": "code",
   "execution_count": 3,
   "metadata": {
    "collapsed": true
   },
   "outputs": [],
   "source": [
    "sys.path.insert(0, './ENML/helper_func/')"
   ]
  },
  {
   "cell_type": "code",
   "execution_count": 4,
   "metadata": {
    "collapsed": true
   },
   "outputs": [],
   "source": [
    "import thinkdsp"
   ]
  },
  {
   "cell_type": "code",
   "execution_count": 5,
   "metadata": {},
   "outputs": [
    {
     "name": "stderr",
     "output_type": "stream",
     "text": [
      "Using TensorFlow backend.\n",
      "./ENML/helper_func\\en_data_utils.py:11: UserWarning: \n",
      "This call to matplotlib.use() has no effect because the backend has already\n",
      "been chosen; matplotlib.use() must be called *before* pylab, matplotlib.pyplot,\n",
      "or matplotlib.backends is imported for the first time.\n",
      "\n",
      "The backend was *originally* set to 'module://ipykernel.pylab.backend_inline' by the following code:\n",
      "  File \"C:\\ProgramData\\Anaconda3\\lib\\runpy.py\", line 193, in _run_module_as_main\n",
      "    \"__main__\", mod_spec)\n",
      "  File \"C:\\ProgramData\\Anaconda3\\lib\\runpy.py\", line 85, in _run_code\n",
      "    exec(code, run_globals)\n",
      "  File \"C:\\ProgramData\\Anaconda3\\lib\\site-packages\\ipykernel_launcher.py\", line 16, in <module>\n",
      "    app.launch_new_instance()\n",
      "  File \"C:\\ProgramData\\Anaconda3\\lib\\site-packages\\traitlets\\config\\application.py\", line 658, in launch_instance\n",
      "    app.start()\n",
      "  File \"C:\\ProgramData\\Anaconda3\\lib\\site-packages\\ipykernel\\kernelapp.py\", line 477, in start\n",
      "    ioloop.IOLoop.instance().start()\n",
      "  File \"C:\\ProgramData\\Anaconda3\\lib\\site-packages\\zmq\\eventloop\\ioloop.py\", line 177, in start\n",
      "    super(ZMQIOLoop, self).start()\n",
      "  File \"C:\\ProgramData\\Anaconda3\\lib\\site-packages\\tornado\\ioloop.py\", line 888, in start\n",
      "    handler_func(fd_obj, events)\n",
      "  File \"C:\\ProgramData\\Anaconda3\\lib\\site-packages\\tornado\\stack_context.py\", line 277, in null_wrapper\n",
      "    return fn(*args, **kwargs)\n",
      "  File \"C:\\ProgramData\\Anaconda3\\lib\\site-packages\\zmq\\eventloop\\zmqstream.py\", line 440, in _handle_events\n",
      "    self._handle_recv()\n",
      "  File \"C:\\ProgramData\\Anaconda3\\lib\\site-packages\\zmq\\eventloop\\zmqstream.py\", line 472, in _handle_recv\n",
      "    self._run_callback(callback, msg)\n",
      "  File \"C:\\ProgramData\\Anaconda3\\lib\\site-packages\\zmq\\eventloop\\zmqstream.py\", line 414, in _run_callback\n",
      "    callback(*args, **kwargs)\n",
      "  File \"C:\\ProgramData\\Anaconda3\\lib\\site-packages\\tornado\\stack_context.py\", line 277, in null_wrapper\n",
      "    return fn(*args, **kwargs)\n",
      "  File \"C:\\ProgramData\\Anaconda3\\lib\\site-packages\\ipykernel\\kernelbase.py\", line 283, in dispatcher\n",
      "    return self.dispatch_shell(stream, msg)\n",
      "  File \"C:\\ProgramData\\Anaconda3\\lib\\site-packages\\ipykernel\\kernelbase.py\", line 235, in dispatch_shell\n",
      "    handler(stream, idents, msg)\n",
      "  File \"C:\\ProgramData\\Anaconda3\\lib\\site-packages\\ipykernel\\kernelbase.py\", line 399, in execute_request\n",
      "    user_expressions, allow_stdin)\n",
      "  File \"C:\\ProgramData\\Anaconda3\\lib\\site-packages\\ipykernel\\ipkernel.py\", line 196, in do_execute\n",
      "    res = shell.run_cell(code, store_history=store_history, silent=silent)\n",
      "  File \"C:\\ProgramData\\Anaconda3\\lib\\site-packages\\ipykernel\\zmqshell.py\", line 533, in run_cell\n",
      "    return super(ZMQInteractiveShell, self).run_cell(*args, **kwargs)\n",
      "  File \"C:\\ProgramData\\Anaconda3\\lib\\site-packages\\IPython\\core\\interactiveshell.py\", line 2698, in run_cell\n",
      "    interactivity=interactivity, compiler=compiler, result=result)\n",
      "  File \"C:\\ProgramData\\Anaconda3\\lib\\site-packages\\IPython\\core\\interactiveshell.py\", line 2802, in run_ast_nodes\n",
      "    if self.run_code(code, result):\n",
      "  File \"C:\\ProgramData\\Anaconda3\\lib\\site-packages\\IPython\\core\\interactiveshell.py\", line 2862, in run_code\n",
      "    exec(code_obj, self.user_global_ns, self.user_ns)\n",
      "  File \"<ipython-input-4-abd91b9c2341>\", line 1, in <module>\n",
      "    import thinkdsp\n",
      "  File \"./ThinkDSP/code\\thinkdsp.py\", line 21, in <module>\n",
      "    import thinkplot\n",
      "  File \"./ThinkDSP/code\\thinkplot.py\", line 12, in <module>\n",
      "    import matplotlib.pyplot as plt\n",
      "  File \"C:\\ProgramData\\Anaconda3\\lib\\site-packages\\matplotlib\\pyplot.py\", line 69, in <module>\n",
      "    from matplotlib.backends import pylab_setup\n",
      "  File \"C:\\ProgramData\\Anaconda3\\lib\\site-packages\\matplotlib\\backends\\__init__.py\", line 14, in <module>\n",
      "    line for line in traceback.format_stack()\n",
      "\n",
      "\n",
      "  matplotlib.use('Agg')\n"
     ]
    }
   ],
   "source": [
    "from en_data_utils import load_dataset"
   ]
  },
  {
   "cell_type": "code",
   "execution_count": 6,
   "metadata": {
    "collapsed": true
   },
   "outputs": [],
   "source": [
    "%matplotlib inline"
   ]
  },
  {
   "cell_type": "code",
   "execution_count": 7,
   "metadata": {
    "collapsed": true
   },
   "outputs": [],
   "source": [
    "dataset_dir = './data/20171228_class5_len7000'"
   ]
  },
  {
   "cell_type": "code",
   "execution_count": 8,
   "metadata": {},
   "outputs": [],
   "source": [
    "Ys, labels, Xs, _, _, _ = load_dataset(dataset_dir, test_ratio=0.001)"
   ]
  },
  {
   "cell_type": "code",
   "execution_count": 9,
   "metadata": {},
   "outputs": [
    {
     "data": {
      "text/plain": [
       "(239, 7000)"
      ]
     },
     "execution_count": 9,
     "metadata": {},
     "output_type": "execute_result"
    }
   ],
   "source": [
    "Ys.shape"
   ]
  },
  {
   "cell_type": "code",
   "execution_count": 10,
   "metadata": {
    "collapsed": true
   },
   "outputs": [],
   "source": [
    "Xs = Xs / 1000"
   ]
  },
  {
   "cell_type": "code",
   "execution_count": 11,
   "metadata": {},
   "outputs": [
    {
     "name": "stdout",
     "output_type": "stream",
     "text": [
      "1000.0\n"
     ]
    }
   ],
   "source": [
    "framerate = 1 / (Xs[0][1] - Xs[0][0])\n",
    "print(framerate)"
   ]
  },
  {
   "cell_type": "code",
   "execution_count": 12,
   "metadata": {},
   "outputs": [],
   "source": [
    "EN_wave = thinkdsp.Wave(ys=Ys[0], ts=Xs[0], framerate=framerate)"
   ]
  },
  {
   "cell_type": "code",
   "execution_count": 13,
   "metadata": {},
   "outputs": [
    {
     "data": {
      "image/png": "[encoded data removed]",
      "text/plain": [
       "<matplotlib.figure.Figure at 0x1f401c5d748>"
      ]
     },
     "metadata": {},
     "output_type": "display_data"
    }
   ],
   "source": [
    "EN_wave.plot()"
   ]
  },
  {
   "cell_type": "code",
   "execution_count": 14,
   "metadata": {
    "collapsed": true
   },
   "outputs": [],
   "source": [
    "from ipywidgets import interact, interactive, fixed\n",
    "import ipywidgets as widgets\n",
    "from IPython.display import display"
   ]
  },
  {
   "cell_type": "code",
   "execution_count": 15,
   "metadata": {},
   "outputs": [
    {
     "data": {
      "text/html": [
       "\n",
       "                <audio controls=\"controls\" >\n",
       "                    <source src=\"data:audio/wav;base64,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\" type=\"audio/wav\" />\n",
       "                    Your browser does not support the audio element.\n",
       "                </audio>\n",
       "              "
      ],
      "text/plain": [
       "<IPython.lib.display.Audio object>"
      ]
     },
     "execution_count": 15,
     "metadata": {},
     "output_type": "execute_result"
    }
   ],
   "source": [
    "from IPython.display import Audio\n",
    "audio = Audio(data=EN_wave.ys, rate=EN_wave.framerate)\n",
    "audio"
   ]
  },
  {
   "cell_type": "code",
   "execution_count": 16,
   "metadata": {},
   "outputs": [
    {
     "data": {
      "image/png": "[encoded data removed]",
      "text/plain": [
       "<matplotlib.figure.Figure at 0x1f402c63358>"
      ]
     },
     "metadata": {},
     "output_type": "display_data"
    }
   ],
   "source": [
    "EN_spectrum = EN_wave.make_spectrum()\n",
    "EN_spectrum.plot()"
   ]
  },
  {
   "cell_type": "code",
   "execution_count": 17,
   "metadata": {
    "collapsed": true
   },
   "outputs": [],
   "source": [
    "EN_spectrum.band_stop(low_cutoff=40, high_cutoff=60, factor=0.01)"
   ]
  },
  {
   "cell_type": "code",
   "execution_count": 19,
   "metadata": {},
   "outputs": [
    {
     "data": {
      "image/png": "[encoded data removed]",
      "text/plain": [
       "<matplotlib.figure.Figure at 0x1f402c5d780>"
      ]
     },
     "metadata": {},
     "output_type": "display_data"
    }
   ],
   "source": [
    "EN_spectrum.plot()"
   ]
  },
  {
   "cell_type": "code",
   "execution_count": 22,
   "metadata": {},
   "outputs": [
    {
     "name": "stdout",
     "output_type": "stream",
     "text": [
      "Writing temp.wav\n"
     ]
    }
   ],
   "source": [
    "EN_wave_filter = EN_spectrum.make_wave()\n",
    "EN_wave_filter.play('temp.wav')"
   ]
  },
  {
   "cell_type": "code",
   "execution_count": 23,
   "metadata": {},
   "outputs": [
    {
     "data": {
      "text/plain": [
       "array([[ 0.,  0.,  1.,  0.,  0.],\n",
       "       [ 0.,  0.,  0.,  1.,  0.],\n",
       "       [ 0.,  0.,  0.,  1.,  0.],\n",
       "       [ 0.,  0.,  1.,  0.,  0.],\n",
       "       [ 0.,  1.,  0.,  0.,  0.]])"
      ]
     },
     "execution_count": 23,
     "metadata": {},
     "output_type": "execute_result"
    }
   ],
   "source": [
    "labels[0:5]"
   ]
  },
  {
   "cell_type": "code",
   "execution_count": 32,
   "metadata": {},
   "outputs": [
    {
     "data": {
      "text/plain": [
       "array([ 1,  2,  3,  4,  5,  6,  7,  8,  9, 10])"
      ]
     },
     "execution_count": 32,
     "metadata": {},
     "output_type": "execute_result"
    }
   ],
   "source": [
    "np.arange(10)+1"
   ]
  },
  {
   "cell_type": "code",
   "execution_count": 27,
   "metadata": {},
   "outputs": [],
   "source": [
    "import numpy as np"
   ]
  },
  {
   "cell_type": "markdown",
   "metadata": {},
   "source": []
  },
  {
   "cell_type": "code",
   "execution_count": 29,
   "metadata": {},
   "outputs": [],
   "source": [
    "y_conc = np.concatenate([Ys[0], Ys[1]])"
   ]
  },
  {
   "cell_type": "code",
   "execution_count": 30,
   "metadata": {},
   "outputs": [
    {
     "data": {
      "text/plain": [
       "14000"
      ]
     },
     "execution_count": 30,
     "metadata": {},
     "output_type": "execute_result"
    }
   ],
   "source": [
    "y_conc.size"
   ]
  },
  {
   "cell_type": "code",
   "execution_count": 52,
   "metadata": {
    "collapsed": true
   },
   "outputs": [],
   "source": [
    "EN_conc_wave = thinkdsp.Wave(ys=y_conc*1e7, ts=(np.arange(14000)+1)/4000, framerate=framerate)"
   ]
  },
  {
   "cell_type": "code",
   "execution_count": 53,
   "metadata": {},
   "outputs": [
    {
     "data": {
      "image/png": "[encoded data removed]",
      "text/plain": [
       "<matplotlib.figure.Figure at 0x1f4043b9b00>"
      ]
     },
     "metadata": {},
     "output_type": "display_data"
    }
   ],
   "source": [
    "EN_conc_wave.plot()"
   ]
  },
  {
   "cell_type": "code",
   "execution_count": 55,
   "metadata": {},
   "outputs": [
    {
     "name": "stdout",
     "output_type": "stream",
     "text": [
      "Writing EN_conc_wave.wav\n"
     ]
    }
   ],
   "source": [
    "EN_conc_wave.play('EN_conc_wave.wav')"
   ]
  },
  {
   "cell_type": "code",
   "execution_count": null,
   "metadata": {
    "collapsed": true
   },
   "outputs": [],
   "source": []
  }
 ],
 "metadata": {
  "kernelspec": {
   "display_name": "Python 3",
   "language": "python",
   "name": "python3"
  },
  "language_info": {
   "codemirror_mode": {
    "name": "ipython",
    "version": 3
   },
   "file_extension": ".py",
   "mimetype": "text/x-python",
   "name": "python",
   "nbconvert_exporter": "python",
   "pygments_lexer": "ipython3",
   "version": "3.6.3"
  }
 },
 "nbformat": 4,
 "nbformat_minor": 2
}
